{
 "cells": [
  {
   "cell_type": "code",
   "execution_count": 12,
   "id": "57d832dc-b120-402f-b4a7-5dc37b8e5256",
   "metadata": {},
   "outputs": [],
   "source": [
    "import mysql.connector as connector"
   ]
  },
  {
   "cell_type": "code",
   "execution_count": 13,
   "id": "8b9e667d-f2d0-4ed7-89cc-76e5bf89e49a",
   "metadata": {},
   "outputs": [],
   "source": [
    "connection = connector.connect(\n",
    "    user=\"capstone\",\n",
    "    password=\"db-Capstone-Course8\"\n",
    ")"
   ]
  },
  {
   "cell_type": "code",
   "execution_count": 14,
   "id": "d8b220af-2a0d-4c2b-98e2-612034869a3a",
   "metadata": {},
   "outputs": [],
   "source": [
    "cursor = connection.cursor()\n",
    "cursor.execute(\"USE LittleLemonDB\")"
   ]
  },
  {
   "cell_type": "code",
   "execution_count": 15,
   "id": "9d90e8a2-481d-4137-9964-9db24d1636b1",
   "metadata": {},
   "outputs": [
    {
     "name": "stdout",
     "output_type": "stream",
     "text": [
      "[('Bookings',), ('CustomerDetails',), ('Menu',), ('MenuItems',), ('OrderDeliveryStatus',), ('Orders',), ('ordersview',), ('StaffInfo',), ('StaffRoles',), ('task2_ordersover150',), ('task3_menusover2',)]\n"
     ]
    }
   ],
   "source": [
    "show_tables_query = \"SHOW tables\"\n",
    "cursor.execute(show_tables_query)\n",
    "\n",
    "results = cursor.fetchall()\n",
    "print(results)"
   ]
  },
  {
   "cell_type": "code",
   "execution_count": 16,
   "id": "339ac423-5b75-41e0-b6b5-275197cae5b1",
   "metadata": {},
   "outputs": [
    {
     "name": "stdout",
     "output_type": "stream",
     "text": [
      "('FullName', 'Phone', 'Email', 'Bill Paid')\n",
      "('Vanessa McCarthy', '555-123-1234', 'johndoe@example.com', Decimal('250'))\n",
      "('Marcus Romero', '555-432-1243', 'jane.doe@example.com', Decimal('200'))\n",
      "('Jake Abbot', '555-678-4455', 'jabbot@examples.com', Decimal('150'))\n",
      "('Jake Abbot', '555-678-4455', 'jabbot@examples.com', Decimal('133'))\n",
      "('Joseph Tobbs', '555-999-0099', 'jostobbs@examples.com', Decimal('175'))\n"
     ]
    }
   ],
   "source": [
    "query1 = \"\"\"SELECT \n",
    "    CONCAT(c.FirstName, ' ', c.LastName) AS FullName, \n",
    "    c.Phone, \n",
    "    c.Email, \n",
    "    o.TotalCost AS 'Bill Paid' \n",
    "    FROM CustomerDetails AS c \n",
    "    LEFT JOIN Orders AS o \n",
    "    ON c.CustomerId = o.CustomerId \n",
    "    WHERE o.TotalCost > 60\"\"\"\n",
    "cursor.execute(query1)\n",
    "headings = cursor.column_names\n",
    "print(headings)\n",
    "results = cursor.fetchall()\n",
    "for row in results:\n",
    "    print(row)"
   ]
  },
  {
   "cell_type": "code",
   "execution_count": null,
   "id": "c3751c03-42a8-46ca-ba8a-cbaf0bafaa10",
   "metadata": {},
   "outputs": [],
   "source": []
  }
 ],
 "metadata": {
  "kernelspec": {
   "display_name": "Python 3 (ipykernel)",
   "language": "python",
   "name": "python3"
  },
  "language_info": {
   "codemirror_mode": {
    "name": "ipython",
    "version": 3
   },
   "file_extension": ".py",
   "mimetype": "text/x-python",
   "name": "python",
   "nbconvert_exporter": "python",
   "pygments_lexer": "ipython3",
   "version": "3.13.5"
  }
 },
 "nbformat": 4,
 "nbformat_minor": 5
}
